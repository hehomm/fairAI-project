{
 "cells": [
  {
   "cell_type": "markdown",
   "metadata": {},
   "source": [
    "## Fairness in Machine Learning project\n",
    "\n",
    "Chosen dataset: Communities and Crime\n",
    "\n",
    "First, download and preprocess the data. The dataset has a lot of variables, and some of them can probably be dropped to reduce model complexity. Firstly, there are five non-predictive features that can be dropped: state, county, community, communityname, and fold. We're going to keep fold for possible cross-validation purposes for now, and drop the others. Additionally, missing values are marked by \"?\", so they will be converted to NaN values."
   ]
  },
  {
   "cell_type": "code",
   "execution_count": 21,
   "metadata": {},
   "outputs": [
    {
     "name": "stdout",
     "output_type": "stream",
     "text": [
      "<class 'pandas.core.frame.DataFrame'>\n",
      "RangeIndex: 1994 entries, 0 to 1993\n",
      "Columns: 123 entries, fold to PolicBudgPerPop\n",
      "dtypes: float64(99), int64(1), object(23)\n",
      "memory usage: 1.9+ MB\n"
     ]
    }
   ],
   "source": [
    "import pandas as pd \n",
    "import numpy as np \n",
    "from ucimlrepo import fetch_ucirepo \n",
    "  \n",
    "# fetch dataset \n",
    "communities_and_crime = fetch_ucirepo(id=183) \n",
    "  \n",
    "# data (as pandas dataframes) \n",
    "X = communities_and_crime.data.features \n",
    "y = communities_and_crime.data.targets \n",
    "\n",
    "X = X.drop([\"state\", \"county\", \"community\", \"communityname\"], axis=\"columns\")\n",
    "X = X.replace('?', np.nan)\n",
    "X.info()"
   ]
  },
  {
   "cell_type": "markdown",
   "metadata": {},
   "source": [
    "Next, we have to deal with the null values. Let's see how many nulls we have on each column to decide if the entire columns should be dropped, or just the rows with missing values."
   ]
  },
  {
   "cell_type": "code",
   "execution_count": 22,
   "metadata": {},
   "outputs": [
    {
     "name": "stdout",
     "output_type": "stream",
     "text": [
      "OtherPerCap 1\n",
      "LemasSwornFT 1675\n",
      "LemasSwFTPerPop 1675\n",
      "LemasSwFTFieldOps 1675\n",
      "LemasSwFTFieldPerPop 1675\n",
      "LemasTotalReq 1675\n",
      "LemasTotReqPerPop 1675\n",
      "PolicReqPerOffic 1675\n",
      "PolicPerPop 1675\n",
      "RacialMatchCommPol 1675\n",
      "PctPolicWhite 1675\n",
      "PctPolicBlack 1675\n",
      "PctPolicHisp 1675\n",
      "PctPolicAsian 1675\n",
      "PctPolicMinor 1675\n",
      "OfficAssgnDrugUnits 1675\n",
      "NumKindsDrugsSeiz 1675\n",
      "PolicAveOTWorked 1675\n",
      "PolicCars 1675\n",
      "PolicOperBudg 1675\n",
      "LemasPctPolicOnPatr 1675\n",
      "LemasGangUnitDeploy 1675\n",
      "PolicBudgPerPop 1675\n"
     ]
    }
   ],
   "source": [
    "nulls = X.isnull().values\n",
    "null_n = np.sum(nulls, axis=0) # count the null values on each column\n",
    "columns_with_nans = [] # collect column names\n",
    "for i in range(len(null_n)): # print column names with missing values\n",
    "    if null_n[i]>0:\n",
    "        print(X.columns[i], null_n[i])\n",
    "        columns_with_nans.append(X.columns[i])"
   ]
  },
  {
   "cell_type": "markdown",
   "metadata": {},
   "source": [
    "OtherPerCap only has a single missing value, and the others are missing on a majority of the data. Hence, we will drop all other listed features entirely, and then drop rows with missing values to get rid of the one singular row with a missing OtherPerCap."
   ]
  },
  {
   "cell_type": "code",
   "execution_count": null,
   "metadata": {},
   "outputs": [
    {
     "name": "stdout",
     "output_type": "stream",
     "text": [
      "<class 'pandas.core.frame.DataFrame'>\n",
      "Index: 1993 entries, 0 to 1993\n",
      "Columns: 101 entries, fold to LemasPctOfficDrugUn\n",
      "dtypes: float64(100), int64(1)\n",
      "memory usage: 1.6 MB\n"
     ]
    }
   ],
   "source": [
    "X = X.drop(columns_with_nans[1:], axis=\"columns\")\n",
    "X = X.dropna(axis=\"index\")\n",
    "X[\"OtherPerCap\"] = X[\"OtherPerCap\"].values.astype(float) # convert from string to float\n",
    "X.info()"
   ]
  },
  {
   "cell_type": "markdown",
   "metadata": {},
   "source": [
    "Next up is feature selection."
   ]
  }
 ],
 "metadata": {
  "kernelspec": {
   "display_name": "tml-venv",
   "language": "python",
   "name": "python3"
  },
  "language_info": {
   "codemirror_mode": {
    "name": "ipython",
    "version": 3
   },
   "file_extension": ".py",
   "mimetype": "text/x-python",
   "name": "python",
   "nbconvert_exporter": "python",
   "pygments_lexer": "ipython3",
   "version": "3.10.12"
  }
 },
 "nbformat": 4,
 "nbformat_minor": 2
}
